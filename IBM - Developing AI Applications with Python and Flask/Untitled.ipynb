{
 "cells": [
  {
   "cell_type": "markdown",
   "id": "374bcbf8",
   "metadata": {},
   "source": [
    "## Q1"
   ]
  },
  {
   "cell_type": "code",
   "execution_count": 3,
   "id": "4e7c9986",
   "metadata": {},
   "outputs": [],
   "source": [
    "import requests\n",
    "\n",
    "def emotion_detector(text_to_analyze):\n",
    "    url = 'https://sn-watson-emotion.labs.skills.network/v1/watson.runtime.nlp.v1/NlpService/EmotionPredict'\n",
    "    headers = {\"grpc-metadata-mm-model-id\": \"emotion_aggregated-workflow_lang_en_stock\"}\n",
    "    input_json = {\"raw_document\": {\"text\": text_to_analyze}}\n",
    "\n",
    "    try:\n",
    "        response = requests.post(url, headers=headers, json=input_json)\n",
    "        if response.status_code == 200:\n",
    "            return response.json().get(\"text\", \"\")\n",
    "        else:\n",
    "            print(f\"Emotion detection request failed with status code: {response.status_code}\")\n",
    "            return None\n",
    "    except Exception as e:\n",
    "        print(f\"An error occurred: {str(e)}\")\n",
    "        return None\n"
   ]
  },
  {
   "cell_type": "code",
   "execution_count": 4,
   "id": "65ac7460",
   "metadata": {},
   "outputs": [
    {
     "name": "stdout",
     "output_type": "stream",
     "text": [
      "An error occurred: HTTPSConnectionPool(host='sn-watson-emotion.labs.skills.network', port=443): Max retries exceeded with url: /v1/watson.runtime.nlp.v1/NlpService/EmotionPredict (Caused by ConnectTimeoutError(<urllib3.connection.HTTPSConnection object at 0x000002214F7D1FD0>, 'Connection to sn-watson-emotion.labs.skills.network timed out. (connect timeout=None)'))\n"
     ]
    }
   ],
   "source": [
    "# Example usage:\n",
    "if __name__ == \"__main__\":\n",
    "    text_to_analyze = \"Your text goes here.\"\n",
    "    result = emotion_detector(text_to_analyze)\n",
    "    if result:\n",
    "        print(\"Emotion detected:\", result)"
   ]
  },
  {
   "cell_type": "markdown",
   "id": "949ef070",
   "metadata": {},
   "source": [
    "## Q2"
   ]
  },
  {
   "cell_type": "code",
   "execution_count": 6,
   "id": "9ce50ae6",
   "metadata": {},
   "outputs": [],
   "source": [
    "import requests\n",
    "\n",
    "def emotion_detector(text_to_analyze):\n",
    "    url = 'https://sn-watson-emotion.labs.skills.network/v1/watson.runtime.nlp.v1/NlpService/EmotionPredict'\n",
    "    headers = {\"grpc-metadata-mm-model-id\": \"emotion_aggregated-workflow_lang_en_stock\"}\n",
    "    input_json = {\"raw_document\": {\"text\": text_to_analyze}}\n",
    "\n",
    "    try:\n",
    "        response = requests.post(url, headers=headers, json=input_json)\n",
    "        if response.status_code == 200:\n",
    "            return response.json().get(\"text\", \"\")\n",
    "        else:\n",
    "            print(f\"Emotion detection request failed with status code: {response.status_code}\")\n",
    "            return None\n",
    "    except Exception as e:\n",
    "        print(f\"An error occurred: {str(e)}\")\n",
    "        return None\n",
    "\n"
   ]
  },
  {
   "cell_type": "code",
   "execution_count": 7,
   "id": "6eb01334",
   "metadata": {},
   "outputs": [
    {
     "name": "stdout",
     "output_type": "stream",
     "text": [
      "An error occurred: HTTPSConnectionPool(host='sn-watson-emotion.labs.skills.network', port=443): Max retries exceeded with url: /v1/watson.runtime.nlp.v1/NlpService/EmotionPredict (Caused by ConnectTimeoutError(<urllib3.connection.HTTPSConnection object at 0x000002214F7DBE90>, 'Connection to sn-watson-emotion.labs.skills.network timed out. (connect timeout=None)'))\n"
     ]
    }
   ],
   "source": [
    "# Example usage:\n",
    "if __name__ == \"__main__\":\n",
    "    text_to_analyze = \"Your text goes here.\"\n",
    "    result = emotion_detector(text_to_analyze)\n",
    "    if result:\n",
    "        print(\"Emotion detected:\", result)"
   ]
  },
  {
   "cell_type": "code",
   "execution_count": null,
   "id": "132503de",
   "metadata": {},
   "outputs": [],
   "source": []
  }
 ],
 "metadata": {
  "kernelspec": {
   "display_name": "Python 3 (ipykernel)",
   "language": "python",
   "name": "python3"
  },
  "language_info": {
   "codemirror_mode": {
    "name": "ipython",
    "version": 3
   },
   "file_extension": ".py",
   "mimetype": "text/x-python",
   "name": "python",
   "nbconvert_exporter": "python",
   "pygments_lexer": "ipython3",
   "version": "3.11.4"
  }
 },
 "nbformat": 4,
 "nbformat_minor": 5
}
